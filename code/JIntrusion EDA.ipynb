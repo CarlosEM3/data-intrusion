{
 "cells": [
  {
   "cell_type": "code",
   "execution_count": 1,
   "metadata": {},
   "outputs": [],
   "source": [
    "import pandas as pd \n",
    "import numpy as np \n",
    "import matplotlib.pyplot as plt \n",
    "import seaborn as sns "
   ]
  },
  {
   "cell_type": "code",
   "execution_count": 2,
   "metadata": {},
   "outputs": [],
   "source": [
    "df = pd.read_csv('../data/raw/AWS_Honeypot_marx-geo.csv')"
   ]
  },
  {
   "cell_type": "code",
   "execution_count": 3,
   "metadata": {},
   "outputs": [
    {
     "data": {
      "text/html": [
       "<div>\n",
       "<style scoped>\n",
       "    .dataframe tbody tr th:only-of-type {\n",
       "        vertical-align: middle;\n",
       "    }\n",
       "\n",
       "    .dataframe tbody tr th {\n",
       "        vertical-align: top;\n",
       "    }\n",
       "\n",
       "    .dataframe thead th {\n",
       "        text-align: right;\n",
       "    }\n",
       "</style>\n",
       "<table border=\"1\" class=\"dataframe\">\n",
       "  <thead>\n",
       "    <tr style=\"text-align: right;\">\n",
       "      <th></th>\n",
       "      <th>datetime</th>\n",
       "      <th>host</th>\n",
       "      <th>src</th>\n",
       "      <th>proto</th>\n",
       "      <th>type</th>\n",
       "      <th>spt</th>\n",
       "      <th>dpt</th>\n",
       "      <th>srcstr</th>\n",
       "      <th>cc</th>\n",
       "      <th>country</th>\n",
       "      <th>locale</th>\n",
       "      <th>localeabbr</th>\n",
       "      <th>postalcode</th>\n",
       "      <th>latitude</th>\n",
       "      <th>longitude</th>\n",
       "      <th>Unnamed: 15</th>\n",
       "    </tr>\n",
       "  </thead>\n",
       "  <tbody>\n",
       "    <tr>\n",
       "      <th>0</th>\n",
       "      <td>3/3/13 21:53</td>\n",
       "      <td>groucho-oregon</td>\n",
       "      <td>1032051418</td>\n",
       "      <td>TCP</td>\n",
       "      <td>NaN</td>\n",
       "      <td>6000.0</td>\n",
       "      <td>1433.0</td>\n",
       "      <td>61.131.218.218</td>\n",
       "      <td>CN</td>\n",
       "      <td>China</td>\n",
       "      <td>Jiangxi Sheng</td>\n",
       "      <td>36</td>\n",
       "      <td>NaN</td>\n",
       "      <td>28.5500</td>\n",
       "      <td>115.9333</td>\n",
       "      <td>NaN</td>\n",
       "    </tr>\n",
       "    <tr>\n",
       "      <th>1</th>\n",
       "      <td>3/3/13 21:57</td>\n",
       "      <td>groucho-oregon</td>\n",
       "      <td>1347834426</td>\n",
       "      <td>UDP</td>\n",
       "      <td>NaN</td>\n",
       "      <td>5270.0</td>\n",
       "      <td>5060.0</td>\n",
       "      <td>80.86.82.58</td>\n",
       "      <td>DE</td>\n",
       "      <td>Germany</td>\n",
       "      <td>NaN</td>\n",
       "      <td>NaN</td>\n",
       "      <td>NaN</td>\n",
       "      <td>51.0000</td>\n",
       "      <td>9.0000</td>\n",
       "      <td>NaN</td>\n",
       "    </tr>\n",
       "    <tr>\n",
       "      <th>2</th>\n",
       "      <td>3/3/13 21:58</td>\n",
       "      <td>groucho-oregon</td>\n",
       "      <td>2947856490</td>\n",
       "      <td>TCP</td>\n",
       "      <td>NaN</td>\n",
       "      <td>2489.0</td>\n",
       "      <td>1080.0</td>\n",
       "      <td>175.180.184.106</td>\n",
       "      <td>TW</td>\n",
       "      <td>Taiwan</td>\n",
       "      <td>Taipei</td>\n",
       "      <td>NaN</td>\n",
       "      <td>NaN</td>\n",
       "      <td>25.0392</td>\n",
       "      <td>121.5250</td>\n",
       "      <td>NaN</td>\n",
       "    </tr>\n",
       "    <tr>\n",
       "      <th>3</th>\n",
       "      <td>3/3/13 21:58</td>\n",
       "      <td>groucho-us-east</td>\n",
       "      <td>841842716</td>\n",
       "      <td>UDP</td>\n",
       "      <td>NaN</td>\n",
       "      <td>43235.0</td>\n",
       "      <td>1900.0</td>\n",
       "      <td>50.45.128.28</td>\n",
       "      <td>US</td>\n",
       "      <td>United States</td>\n",
       "      <td>Oregon</td>\n",
       "      <td>OR</td>\n",
       "      <td>97124</td>\n",
       "      <td>45.5848</td>\n",
       "      <td>-122.9117</td>\n",
       "      <td>NaN</td>\n",
       "    </tr>\n",
       "    <tr>\n",
       "      <th>4</th>\n",
       "      <td>3/3/13 21:58</td>\n",
       "      <td>groucho-singapore</td>\n",
       "      <td>3587648279</td>\n",
       "      <td>TCP</td>\n",
       "      <td>NaN</td>\n",
       "      <td>56577.0</td>\n",
       "      <td>80.0</td>\n",
       "      <td>213.215.43.23</td>\n",
       "      <td>FR</td>\n",
       "      <td>France</td>\n",
       "      <td>NaN</td>\n",
       "      <td>NaN</td>\n",
       "      <td>NaN</td>\n",
       "      <td>48.8600</td>\n",
       "      <td>2.3500</td>\n",
       "      <td>NaN</td>\n",
       "    </tr>\n",
       "  </tbody>\n",
       "</table>\n",
       "</div>"
      ],
      "text/plain": [
       "       datetime               host         src proto  type      spt     dpt  \\\n",
       "0  3/3/13 21:53     groucho-oregon  1032051418   TCP   NaN   6000.0  1433.0   \n",
       "1  3/3/13 21:57     groucho-oregon  1347834426   UDP   NaN   5270.0  5060.0   \n",
       "2  3/3/13 21:58     groucho-oregon  2947856490   TCP   NaN   2489.0  1080.0   \n",
       "3  3/3/13 21:58    groucho-us-east   841842716   UDP   NaN  43235.0  1900.0   \n",
       "4  3/3/13 21:58  groucho-singapore  3587648279   TCP   NaN  56577.0    80.0   \n",
       "\n",
       "            srcstr  cc        country         locale localeabbr postalcode  \\\n",
       "0   61.131.218.218  CN          China  Jiangxi Sheng         36        NaN   \n",
       "1      80.86.82.58  DE        Germany            NaN        NaN        NaN   \n",
       "2  175.180.184.106  TW         Taiwan         Taipei        NaN        NaN   \n",
       "3     50.45.128.28  US  United States         Oregon         OR      97124   \n",
       "4    213.215.43.23  FR         France            NaN        NaN        NaN   \n",
       "\n",
       "   latitude  longitude  Unnamed: 15  \n",
       "0   28.5500   115.9333          NaN  \n",
       "1   51.0000     9.0000          NaN  \n",
       "2   25.0392   121.5250          NaN  \n",
       "3   45.5848  -122.9117          NaN  \n",
       "4   48.8600     2.3500          NaN  "
      ]
     },
     "execution_count": 3,
     "metadata": {},
     "output_type": "execute_result"
    }
   ],
   "source": [
    "df.head(5)"
   ]
  },
  {
   "cell_type": "code",
   "execution_count": 4,
   "metadata": {},
   "outputs": [
    {
     "name": "stdout",
     "output_type": "stream",
     "text": [
      "<class 'pandas.core.frame.DataFrame'>\n",
      "RangeIndex: 451581 entries, 0 to 451580\n",
      "Data columns (total 16 columns):\n",
      " #   Column       Non-Null Count   Dtype  \n",
      "---  ------       --------------   -----  \n",
      " 0   datetime     451581 non-null  object \n",
      " 1   host         451581 non-null  object \n",
      " 2   src          451581 non-null  int64  \n",
      " 3   proto        451581 non-null  object \n",
      " 4   type         44811 non-null   float64\n",
      " 5   spt          406770 non-null  float64\n",
      " 6   dpt          406770 non-null  float64\n",
      " 7   srcstr       451581 non-null  object \n",
      " 8   cc           447985 non-null  object \n",
      " 9   country      447947 non-null  object \n",
      " 10  locale       342112 non-null  object \n",
      " 11  localeabbr   331705 non-null  object \n",
      " 12  postalcode   86478 non-null   object \n",
      " 13  latitude     448112 non-null  float64\n",
      " 14  longitude    448153 non-null  float64\n",
      " 15  Unnamed: 15  83 non-null      float64\n",
      "dtypes: float64(6), int64(1), object(9)\n",
      "memory usage: 55.1+ MB\n"
     ]
    }
   ],
   "source": [
    "df.info()"
   ]
  },
  {
   "cell_type": "code",
   "execution_count": 5,
   "metadata": {},
   "outputs": [
    {
     "data": {
      "text/html": [
       "<div>\n",
       "<style scoped>\n",
       "    .dataframe tbody tr th:only-of-type {\n",
       "        vertical-align: middle;\n",
       "    }\n",
       "\n",
       "    .dataframe tbody tr th {\n",
       "        vertical-align: top;\n",
       "    }\n",
       "\n",
       "    .dataframe thead th {\n",
       "        text-align: right;\n",
       "    }\n",
       "</style>\n",
       "<table border=\"1\" class=\"dataframe\">\n",
       "  <thead>\n",
       "    <tr style=\"text-align: right;\">\n",
       "      <th></th>\n",
       "      <th>src</th>\n",
       "      <th>type</th>\n",
       "      <th>spt</th>\n",
       "      <th>dpt</th>\n",
       "      <th>latitude</th>\n",
       "      <th>longitude</th>\n",
       "      <th>Unnamed: 15</th>\n",
       "    </tr>\n",
       "  </thead>\n",
       "  <tbody>\n",
       "    <tr>\n",
       "      <th>count</th>\n",
       "      <td>4.515810e+05</td>\n",
       "      <td>44811.000000</td>\n",
       "      <td>406770.000000</td>\n",
       "      <td>406770.000000</td>\n",
       "      <td>448112.000000</td>\n",
       "      <td>448153.000000</td>\n",
       "      <td>83.000000</td>\n",
       "    </tr>\n",
       "    <tr>\n",
       "      <th>mean</th>\n",
       "      <td>2.154902e+09</td>\n",
       "      <td>7.514896</td>\n",
       "      <td>18685.461494</td>\n",
       "      <td>6684.258212</td>\n",
       "      <td>36.214115</td>\n",
       "      <td>48.751751</td>\n",
       "      <td>-77.027536</td>\n",
       "    </tr>\n",
       "    <tr>\n",
       "      <th>std</th>\n",
       "      <td>1.081011e+09</td>\n",
       "      <td>1.799866</td>\n",
       "      <td>19290.141746</td>\n",
       "      <td>14032.839799</td>\n",
       "      <td>194.251441</td>\n",
       "      <td>91.774739</td>\n",
       "      <td>0.011942</td>\n",
       "    </tr>\n",
       "    <tr>\n",
       "      <th>min</th>\n",
       "      <td>1.677725e+07</td>\n",
       "      <td>0.000000</td>\n",
       "      <td>0.000000</td>\n",
       "      <td>0.000000</td>\n",
       "      <td>-43.533300</td>\n",
       "      <td>-175.000000</td>\n",
       "      <td>-77.059600</td>\n",
       "    </tr>\n",
       "    <tr>\n",
       "      <th>25%</th>\n",
       "      <td>1.169129e+09</td>\n",
       "      <td>8.000000</td>\n",
       "      <td>6000.000000</td>\n",
       "      <td>445.000000</td>\n",
       "      <td>30.666700</td>\n",
       "      <td>-4.000000</td>\n",
       "      <td>-77.036400</td>\n",
       "    </tr>\n",
       "    <tr>\n",
       "      <th>50%</th>\n",
       "      <td>2.031191e+09</td>\n",
       "      <td>8.000000</td>\n",
       "      <td>6000.000000</td>\n",
       "      <td>1433.000000</td>\n",
       "      <td>35.685000</td>\n",
       "      <td>106.000000</td>\n",
       "      <td>-77.036400</td>\n",
       "    </tr>\n",
       "    <tr>\n",
       "      <th>75%</th>\n",
       "      <td>3.164988e+09</td>\n",
       "      <td>8.000000</td>\n",
       "      <td>33461.000000</td>\n",
       "      <td>3389.000000</td>\n",
       "      <td>40.455500</td>\n",
       "      <td>118.777800</td>\n",
       "      <td>-77.014600</td>\n",
       "    </tr>\n",
       "    <tr>\n",
       "      <th>max</th>\n",
       "      <td>3.758094e+09</td>\n",
       "      <td>13.000000</td>\n",
       "      <td>65535.000000</td>\n",
       "      <td>65500.000000</td>\n",
       "      <td>20076.000000</td>\n",
       "      <td>178.416700</td>\n",
       "      <td>-77.014600</td>\n",
       "    </tr>\n",
       "  </tbody>\n",
       "</table>\n",
       "</div>"
      ],
      "text/plain": [
       "                src          type            spt            dpt  \\\n",
       "count  4.515810e+05  44811.000000  406770.000000  406770.000000   \n",
       "mean   2.154902e+09      7.514896   18685.461494    6684.258212   \n",
       "std    1.081011e+09      1.799866   19290.141746   14032.839799   \n",
       "min    1.677725e+07      0.000000       0.000000       0.000000   \n",
       "25%    1.169129e+09      8.000000    6000.000000     445.000000   \n",
       "50%    2.031191e+09      8.000000    6000.000000    1433.000000   \n",
       "75%    3.164988e+09      8.000000   33461.000000    3389.000000   \n",
       "max    3.758094e+09     13.000000   65535.000000   65500.000000   \n",
       "\n",
       "            latitude      longitude  Unnamed: 15  \n",
       "count  448112.000000  448153.000000    83.000000  \n",
       "mean       36.214115      48.751751   -77.027536  \n",
       "std       194.251441      91.774739     0.011942  \n",
       "min       -43.533300    -175.000000   -77.059600  \n",
       "25%        30.666700      -4.000000   -77.036400  \n",
       "50%        35.685000     106.000000   -77.036400  \n",
       "75%        40.455500     118.777800   -77.014600  \n",
       "max     20076.000000     178.416700   -77.014600  "
      ]
     },
     "execution_count": 5,
     "metadata": {},
     "output_type": "execute_result"
    }
   ],
   "source": [
    "df.describe()"
   ]
  },
  {
   "cell_type": "code",
   "execution_count": 6,
   "metadata": {},
   "outputs": [
    {
     "data": {
      "text/plain": [
       "datetime            0\n",
       "host                0\n",
       "src                 0\n",
       "proto               0\n",
       "type           406770\n",
       "spt             44811\n",
       "dpt             44811\n",
       "srcstr              0\n",
       "cc               3596\n",
       "country          3634\n",
       "locale         109469\n",
       "localeabbr     119876\n",
       "postalcode     365103\n",
       "latitude         3469\n",
       "longitude        3428\n",
       "Unnamed: 15    451498\n",
       "dtype: int64"
      ]
     },
     "execution_count": 6,
     "metadata": {},
     "output_type": "execute_result"
    }
   ],
   "source": [
    "df.isnull().sum()"
   ]
  },
  {
   "cell_type": "code",
   "execution_count": 7,
   "metadata": {},
   "outputs": [
    {
     "data": {
      "text/plain": [
       "(451581, 16)"
      ]
     },
     "execution_count": 7,
     "metadata": {},
     "output_type": "execute_result"
    }
   ],
   "source": [
    "df.shape"
   ]
  },
  {
   "cell_type": "code",
   "execution_count": 8,
   "metadata": {},
   "outputs": [
    {
     "data": {
      "text/plain": [
       "<Axes: xlabel='country'>"
      ]
     },
     "execution_count": 8,
     "metadata": {},
     "output_type": "execute_result"
    },
    {
     "data": {
      "image/png": "[encoded data removed]",
      "text/plain": [
       "<Figure size 640x480 with 1 Axes>"
      ]
     },
     "metadata": {},
     "output_type": "display_data"
    }
   ],
   "source": [
    "country_type_counts = df[\"country\"].value_counts()\n",
    "country_type_counts.nlargest(5).plot.bar()"
   ]
  },
  {
   "cell_type": "code",
   "execution_count": null,
   "metadata": {},
   "outputs": [],
   "source": []
  }
 ],
 "metadata": {
  "kernelspec": {
   "display_name": "phase1",
   "language": "python",
   "name": "python3"
  },
  "language_info": {
   "codemirror_mode": {
    "name": "ipython",
    "version": 3
   },
   "file_extension": ".py",
   "mimetype": "text/x-python",
   "name": "python",
   "nbconvert_exporter": "python",
   "pygments_lexer": "ipython3",
   "version": "3.9.18"
  }
 },
 "nbformat": 4,
 "nbformat_minor": 2
}
